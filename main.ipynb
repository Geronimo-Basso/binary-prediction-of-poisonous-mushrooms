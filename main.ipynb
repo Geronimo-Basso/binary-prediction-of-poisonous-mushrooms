{
 "cells": [
  {
   "metadata": {},
   "cell_type": "markdown",
   "source": [
    "# Binary Prediction of Poisonous Mushrooms\n",
    "\n",
    "1. Exploratory data analysis\n",
    "2. Data Preprocessing for Model.\n",
    "3. Basic model building.\n",
    "4. Model tunning.\n",
    "5. Ensamble model building.\n",
    "6. Results."
   ],
   "id": "caac397ce8c2b05a"
  },
  {
   "metadata": {
    "ExecuteTime": {
     "end_time": "2024-08-12T23:05:07.468183Z",
     "start_time": "2024-08-12T23:05:02.864736Z"
    }
   },
   "cell_type": "code",
   "source": [
    "import pandas as pd\n",
    "import xgboost as xgb\n",
    "import numpy as np\n",
    "\n",
    "from tqdm import tqdm\n",
    "import time \n",
    "from datetime import datetime\n",
    "\n",
    "import matplotlib.pyplot as plt\n",
    "\n",
    "import tensorflow as tf\n",
    "from tensorflow.keras.models import Sequential\n",
    "from tensorflow.keras.layers import Dense, Dropout\n",
    "from tensorflow.keras.callbacks import EarlyStopping\n",
    "\n",
    "\n",
    "from xgboost import XGBClassifier\n",
    "\n",
    "from sklearn.pipeline import Pipeline\n",
    "from sklearn.compose import ColumnTransformer\n",
    "from sklearn.compose import make_column_selector as selector\n",
    "from sklearn.impute import SimpleImputer\n",
    "from sklearn.decomposition import PCA\n",
    "from sklearn.preprocessing import StandardScaler, OneHotEncoder, FunctionTransformer\n",
    "\n",
    "from sklearn.model_selection import train_test_split, cross_val_score , GridSearchCV\n",
    "from sklearn.metrics import accuracy_score, matthews_corrcoef\n",
    "\n",
    "from sklearn.tree import DecisionTreeClassifier\n",
    "\n",
    "from sklearn.naive_bayes import GaussianNB\n",
    "from sklearn.linear_model import LogisticRegression\n",
    "from sklearn import tree\n",
    "from sklearn.neighbors import KNeighborsClassifier\n",
    "from sklearn.svm import SVC\n",
    "from sklearn.ensemble import VotingClassifier, RandomForestClassifier, GradientBoostingClassifier"
   ],
   "id": "545f0242b889bb80",
   "outputs": [],
   "execution_count": 1
  },
  {
   "metadata": {},
   "cell_type": "markdown",
   "source": "## Exploratory data analysis. ",
   "id": "bbf12d3b8d4ee717"
  },
  {
   "metadata": {
    "ExecuteTime": {
     "end_time": "2024-08-12T22:32:49.785507Z",
     "start_time": "2024-08-12T22:32:43.592081Z"
    }
   },
   "cell_type": "code",
   "source": [
    "train = pd.read_csv('data/train.csv')\n",
    "test = pd.read_csv('data/test.csv')\n",
    "print(f\"Size of the training set: {train.shape[0]}\")\n",
    "print(f\"Size of the test set: {test.shape[0]}\")"
   ],
   "id": "5ffde293c9f6223",
   "outputs": [
    {
     "name": "stdout",
     "output_type": "stream",
     "text": [
      "Size of the training set: 3116945\n",
      "Size of the test set: 2077964\n"
     ]
    }
   ],
   "execution_count": 22
  },
  {
   "metadata": {
    "ExecuteTime": {
     "end_time": "2024-08-11T20:17:49.291251Z",
     "start_time": "2024-08-11T20:17:49.277153Z"
    }
   },
   "cell_type": "code",
   "source": "train.head()",
   "id": "18a1e9000346503a",
   "outputs": [
    {
     "data": {
      "text/plain": [
       "   id class  cap-diameter cap-shape cap-surface cap-color  \\\n",
       "0   0     e          8.80         f           s         u   \n",
       "1   1     p          4.51         x           h         o   \n",
       "2   2     e          6.94         f           s         b   \n",
       "3   3     e          3.88         f           y         g   \n",
       "4   4     e          5.85         x           l         w   \n",
       "\n",
       "  does-bruise-or-bleed gill-attachment gill-spacing gill-color  ...  \\\n",
       "0                    f               a            c          w  ...   \n",
       "1                    f               a            c          n  ...   \n",
       "2                    f               x            c          w  ...   \n",
       "3                    f               s          NaN          g  ...   \n",
       "4                    f               d          NaN          w  ...   \n",
       "\n",
       "   stem-root  stem-surface stem-color veil-type veil-color has-ring ring-type  \\\n",
       "0        NaN           NaN          w       NaN        NaN        f         f   \n",
       "1        NaN             y          o       NaN        NaN        t         z   \n",
       "2        NaN             s          n       NaN        NaN        f         f   \n",
       "3        NaN           NaN          w       NaN        NaN        f         f   \n",
       "4        NaN           NaN          w       NaN        NaN        f         f   \n",
       "\n",
       "  spore-print-color habitat season  \n",
       "0               NaN       d      a  \n",
       "1               NaN       d      w  \n",
       "2               NaN       l      w  \n",
       "3               NaN       d      u  \n",
       "4               NaN       g      a  \n",
       "\n",
       "[5 rows x 22 columns]"
      ],
      "text/html": [
       "<div>\n",
       "<style scoped>\n",
       "    .dataframe tbody tr th:only-of-type {\n",
       "        vertical-align: middle;\n",
       "    }\n",
       "\n",
       "    .dataframe tbody tr th {\n",
       "        vertical-align: top;\n",
       "    }\n",
       "\n",
       "    .dataframe thead th {\n",
       "        text-align: right;\n",
       "    }\n",
       "</style>\n",
       "<table border=\"1\" class=\"dataframe\">\n",
       "  <thead>\n",
       "    <tr style=\"text-align: right;\">\n",
       "      <th></th>\n",
       "      <th>id</th>\n",
       "      <th>class</th>\n",
       "      <th>cap-diameter</th>\n",
       "      <th>cap-shape</th>\n",
       "      <th>cap-surface</th>\n",
       "      <th>cap-color</th>\n",
       "      <th>does-bruise-or-bleed</th>\n",
       "      <th>gill-attachment</th>\n",
       "      <th>gill-spacing</th>\n",
       "      <th>gill-color</th>\n",
       "      <th>...</th>\n",
       "      <th>stem-root</th>\n",
       "      <th>stem-surface</th>\n",
       "      <th>stem-color</th>\n",
       "      <th>veil-type</th>\n",
       "      <th>veil-color</th>\n",
       "      <th>has-ring</th>\n",
       "      <th>ring-type</th>\n",
       "      <th>spore-print-color</th>\n",
       "      <th>habitat</th>\n",
       "      <th>season</th>\n",
       "    </tr>\n",
       "  </thead>\n",
       "  <tbody>\n",
       "    <tr>\n",
       "      <th>0</th>\n",
       "      <td>0</td>\n",
       "      <td>e</td>\n",
       "      <td>8.80</td>\n",
       "      <td>f</td>\n",
       "      <td>s</td>\n",
       "      <td>u</td>\n",
       "      <td>f</td>\n",
       "      <td>a</td>\n",
       "      <td>c</td>\n",
       "      <td>w</td>\n",
       "      <td>...</td>\n",
       "      <td>NaN</td>\n",
       "      <td>NaN</td>\n",
       "      <td>w</td>\n",
       "      <td>NaN</td>\n",
       "      <td>NaN</td>\n",
       "      <td>f</td>\n",
       "      <td>f</td>\n",
       "      <td>NaN</td>\n",
       "      <td>d</td>\n",
       "      <td>a</td>\n",
       "    </tr>\n",
       "    <tr>\n",
       "      <th>1</th>\n",
       "      <td>1</td>\n",
       "      <td>p</td>\n",
       "      <td>4.51</td>\n",
       "      <td>x</td>\n",
       "      <td>h</td>\n",
       "      <td>o</td>\n",
       "      <td>f</td>\n",
       "      <td>a</td>\n",
       "      <td>c</td>\n",
       "      <td>n</td>\n",
       "      <td>...</td>\n",
       "      <td>NaN</td>\n",
       "      <td>y</td>\n",
       "      <td>o</td>\n",
       "      <td>NaN</td>\n",
       "      <td>NaN</td>\n",
       "      <td>t</td>\n",
       "      <td>z</td>\n",
       "      <td>NaN</td>\n",
       "      <td>d</td>\n",
       "      <td>w</td>\n",
       "    </tr>\n",
       "    <tr>\n",
       "      <th>2</th>\n",
       "      <td>2</td>\n",
       "      <td>e</td>\n",
       "      <td>6.94</td>\n",
       "      <td>f</td>\n",
       "      <td>s</td>\n",
       "      <td>b</td>\n",
       "      <td>f</td>\n",
       "      <td>x</td>\n",
       "      <td>c</td>\n",
       "      <td>w</td>\n",
       "      <td>...</td>\n",
       "      <td>NaN</td>\n",
       "      <td>s</td>\n",
       "      <td>n</td>\n",
       "      <td>NaN</td>\n",
       "      <td>NaN</td>\n",
       "      <td>f</td>\n",
       "      <td>f</td>\n",
       "      <td>NaN</td>\n",
       "      <td>l</td>\n",
       "      <td>w</td>\n",
       "    </tr>\n",
       "    <tr>\n",
       "      <th>3</th>\n",
       "      <td>3</td>\n",
       "      <td>e</td>\n",
       "      <td>3.88</td>\n",
       "      <td>f</td>\n",
       "      <td>y</td>\n",
       "      <td>g</td>\n",
       "      <td>f</td>\n",
       "      <td>s</td>\n",
       "      <td>NaN</td>\n",
       "      <td>g</td>\n",
       "      <td>...</td>\n",
       "      <td>NaN</td>\n",
       "      <td>NaN</td>\n",
       "      <td>w</td>\n",
       "      <td>NaN</td>\n",
       "      <td>NaN</td>\n",
       "      <td>f</td>\n",
       "      <td>f</td>\n",
       "      <td>NaN</td>\n",
       "      <td>d</td>\n",
       "      <td>u</td>\n",
       "    </tr>\n",
       "    <tr>\n",
       "      <th>4</th>\n",
       "      <td>4</td>\n",
       "      <td>e</td>\n",
       "      <td>5.85</td>\n",
       "      <td>x</td>\n",
       "      <td>l</td>\n",
       "      <td>w</td>\n",
       "      <td>f</td>\n",
       "      <td>d</td>\n",
       "      <td>NaN</td>\n",
       "      <td>w</td>\n",
       "      <td>...</td>\n",
       "      <td>NaN</td>\n",
       "      <td>NaN</td>\n",
       "      <td>w</td>\n",
       "      <td>NaN</td>\n",
       "      <td>NaN</td>\n",
       "      <td>f</td>\n",
       "      <td>f</td>\n",
       "      <td>NaN</td>\n",
       "      <td>g</td>\n",
       "      <td>a</td>\n",
       "    </tr>\n",
       "  </tbody>\n",
       "</table>\n",
       "<p>5 rows × 22 columns</p>\n",
       "</div>"
      ]
     },
     "execution_count": 3,
     "metadata": {},
     "output_type": "execute_result"
    }
   ],
   "execution_count": 3
  },
  {
   "metadata": {
    "ExecuteTime": {
     "end_time": "2024-08-11T19:25:30.822695Z",
     "start_time": "2024-08-11T19:25:30.816053Z"
    }
   },
   "cell_type": "code",
   "source": "train.info()",
   "id": "c1578fd578d4c510",
   "outputs": [
    {
     "name": "stdout",
     "output_type": "stream",
     "text": [
      "<class 'pandas.core.frame.DataFrame'>\n",
      "RangeIndex: 3116945 entries, 0 to 3116944\n",
      "Data columns (total 22 columns):\n",
      " #   Column                Dtype  \n",
      "---  ------                -----  \n",
      " 0   id                    int64  \n",
      " 1   class                 object \n",
      " 2   cap-diameter          float64\n",
      " 3   cap-shape             object \n",
      " 4   cap-surface           object \n",
      " 5   cap-color             object \n",
      " 6   does-bruise-or-bleed  object \n",
      " 7   gill-attachment       object \n",
      " 8   gill-spacing          object \n",
      " 9   gill-color            object \n",
      " 10  stem-height           float64\n",
      " 11  stem-width            float64\n",
      " 12  stem-root             object \n",
      " 13  stem-surface          object \n",
      " 14  stem-color            object \n",
      " 15  veil-type             object \n",
      " 16  veil-color            object \n",
      " 17  has-ring              object \n",
      " 18  ring-type             object \n",
      " 19  spore-print-color     object \n",
      " 20  habitat               object \n",
      " 21  season                object \n",
      "dtypes: float64(3), int64(1), object(18)\n",
      "memory usage: 523.2+ MB\n"
     ]
    }
   ],
   "execution_count": 80
  },
  {
   "metadata": {
    "ExecuteTime": {
     "end_time": "2024-08-11T19:25:32.182080Z",
     "start_time": "2024-08-11T19:25:30.824800Z"
    }
   },
   "cell_type": "code",
   "source": "print(train.isnull().sum()) # Lots of null values in various columns.",
   "id": "45b215fe26f7f6bf",
   "outputs": [
    {
     "name": "stdout",
     "output_type": "stream",
     "text": [
      "id                            0\n",
      "class                         0\n",
      "cap-diameter                  4\n",
      "cap-shape                    40\n",
      "cap-surface              671023\n",
      "cap-color                    12\n",
      "does-bruise-or-bleed          8\n",
      "gill-attachment          523936\n",
      "gill-spacing            1258435\n",
      "gill-color                   57\n",
      "stem-height                   0\n",
      "stem-width                    0\n",
      "stem-root               2757023\n",
      "stem-surface            1980861\n",
      "stem-color                   38\n",
      "veil-type               2957493\n",
      "veil-color              2740947\n",
      "has-ring                     24\n",
      "ring-type                128880\n",
      "spore-print-color       2849682\n",
      "habitat                      45\n",
      "season                        0\n",
      "dtype: int64\n"
     ]
    }
   ],
   "execution_count": 81
  },
  {
   "metadata": {},
   "cell_type": "markdown",
   "source": "## Feature engineering",
   "id": "1fc63964fd285776"
  },
  {
   "metadata": {
    "ExecuteTime": {
     "end_time": "2024-08-12T22:33:04.312071Z",
     "start_time": "2024-08-12T22:33:03.239883Z"
    }
   },
   "cell_type": "code",
   "source": [
    "train['cap_shape_surface'] = train['cap-shape'] + '_' + train['cap-surface']\n",
    "train['cap_stem_ratio'] = train['cap-diameter'] / (train['stem-height'] + 1e-6)\n",
    "train['stem_area'] = train['stem-height'] * train['stem-width']\n",
    "\n",
    "test['cap_shape_surface'] = test['cap-shape'] + '_' + test['cap-surface']\n",
    "test['cap_stem_ratio'] = test['cap-diameter'] / (test['stem-height'] + 1e-6)\n",
    "test['stem_area'] = test['stem-height'] * test['stem-width']"
   ],
   "id": "b89a5f7e023586c7",
   "outputs": [],
   "execution_count": 23
  },
  {
   "metadata": {},
   "cell_type": "markdown",
   "source": "# Data processing for the model.",
   "id": "9584041214f091d5"
  },
  {
   "metadata": {
    "ExecuteTime": {
     "end_time": "2024-08-12T22:33:06.910836Z",
     "start_time": "2024-08-12T22:33:06.906886Z"
    }
   },
   "cell_type": "code",
   "source": [
    "numeric_features = ['cap-diameter', 'stem-height', 'stem-width',    'cap_stem_ratio', 'stem_area']\n",
    "categorical_features = ['cap-shape', 'cap-surface', 'cap-color',\n",
    "                        'does-bruise-or-bleed', 'gill-attachment', 'gill-spacing', 'gill-color',\n",
    "                        'stem-root', 'stem-surface', 'stem-color', 'veil-type', 'veil-color',\n",
    "                        'has-ring', 'ring-type', 'spore-print-color', 'habitat', 'season',      'cap_shape_surface']"
   ],
   "id": "96c6c3449b15c5c4",
   "outputs": [],
   "execution_count": 24
  },
  {
   "metadata": {
    "ExecuteTime": {
     "end_time": "2024-08-12T22:33:13.184032Z",
     "start_time": "2024-08-12T22:33:09.478236Z"
    }
   },
   "cell_type": "code",
   "source": [
    "X = train.drop(columns=['id', 'class'])\n",
    "X[categorical_features] = X[categorical_features].astype('category')\n",
    "y = train['class'].map({'e': 0, 'p': 1})\n",
    "X_train, X_val, y_train, y_val = train_test_split(X, y, test_size=0.2, random_state=42)\n",
    "\n",
    "print(\"Training set shape:\", X_train.shape)\n",
    "print(\"Testing set shape:\", X_val.shape)"
   ],
   "id": "a0c554dc17fceb85",
   "outputs": [
    {
     "name": "stdout",
     "output_type": "stream",
     "text": [
      "Training set shape: (2493556, 23)\n",
      "Testing set shape: (623389, 23)\n"
     ]
    }
   ],
   "execution_count": 25
  },
  {
   "metadata": {
    "ExecuteTime": {
     "end_time": "2024-08-12T22:33:13.599269Z",
     "start_time": "2024-08-12T22:33:13.185183Z"
    }
   },
   "cell_type": "code",
   "source": [
    "# Future use of test set\n",
    "test = test.drop(['id'], axis=1)"
   ],
   "id": "1c320e0f6877ccdd",
   "outputs": [],
   "execution_count": 26
  },
  {
   "metadata": {},
   "cell_type": "markdown",
   "source": "## Data pipeline",
   "id": "5cd40fc3526967d1"
  },
  {
   "metadata": {
    "ExecuteTime": {
     "end_time": "2024-08-12T22:33:13.604520Z",
     "start_time": "2024-08-12T22:33:13.601089Z"
    }
   },
   "cell_type": "code",
   "source": [
    "# Create a ColumnTransformer to handle different preprocessing steps for different feature types\n",
    "preprocessor = ColumnTransformer(\n",
    "    transformers=[\n",
    "        # Pipeline for numeric features\n",
    "        ('num', Pipeline([\n",
    "            # Impute missing values in numeric columns with the median of the column\n",
    "            ('imputer', SimpleImputer(strategy='median')),\n",
    "            # Scale numeric features to have mean=0 and standard deviation=1\n",
    "            ('scaler', StandardScaler())\n",
    "        ]), numeric_features),\n",
    "        \n",
    "        # Pipeline for categorical features\n",
    "        ('cat', Pipeline([\n",
    "            # Impute missing values in categorical columns with the string 'missing'\n",
    "            ('imputer', SimpleImputer(strategy='constant', fill_value='missing')), # Use to do this previously. \n",
    "            #('imputer', SimpleImputer(strategy='most_frequent')), # Better results with the missing fill_value. \n",
    "            # Convert categorical features to string type\n",
    "            ('to_string', FunctionTransformer(lambda x: x.astype(str))),\n",
    "            # One-hot encode categorical features, ignoring unknown categories\n",
    "            ('onehot', OneHotEncoder(handle_unknown='ignore'))\n",
    "        ]), categorical_features)\n",
    "    ])\n",
    "\n",
    "# Create a full pipeline that applies the preprocessor to the dataset\n",
    "full_pipeline = Pipeline([\n",
    "    ('preprocessor', preprocessor)  # Apply the preprocessor to the data\n",
    "    #('pca', PCA(n_components=5)) # PCA does not work better. \n",
    "])"
   ],
   "id": "d5e7ff0c228995b8",
   "outputs": [],
   "execution_count": 27
  },
  {
   "metadata": {
    "ExecuteTime": {
     "end_time": "2024-08-12T22:34:10.458903Z",
     "start_time": "2024-08-12T22:33:13.605478Z"
    }
   },
   "cell_type": "code",
   "source": [
    "X_train = full_pipeline.fit_transform(X_train)\n",
    "X_val = full_pipeline.transform(X_val)"
   ],
   "id": "1f0eb525f86aa10b",
   "outputs": [],
   "execution_count": 28
  },
  {
   "metadata": {
    "ExecuteTime": {
     "end_time": "2024-08-12T22:35:13.448240Z",
     "start_time": "2024-08-12T22:34:10.460493Z"
    }
   },
   "cell_type": "code",
   "source": "test = full_pipeline.transform(test)",
   "id": "75cf032981e05d0c",
   "outputs": [],
   "execution_count": 29
  },
  {
   "metadata": {},
   "cell_type": "markdown",
   "source": "# Basic Model building\n",
   "id": "859bda3c3dad8fcc"
  },
  {
   "metadata": {},
   "cell_type": "markdown",
   "source": "## Classic ML.",
   "id": "72385a65012596d5"
  },
  {
   "metadata": {
    "ExecuteTime": {
     "end_time": "2024-08-11T21:18:34.109132Z",
     "start_time": "2024-08-11T21:18:34.103348Z"
    }
   },
   "cell_type": "code",
   "source": [
    "def train_evaluate_model(model, X_train, y_train, X_test, y_test, cv=5):\n",
    "    # Fit the model\n",
    "    model.fit(X_train, y_train)\n",
    "    \n",
    "    # Make predictions\n",
    "    train_preds = model.predict(X_train)\n",
    "    test_preds = model.predict(X_test)\n",
    "    \n",
    "    # Calculate metrics\n",
    "    train_accuracy = accuracy_score(y_train, train_preds)\n",
    "    test_accuracy = accuracy_score(y_test, test_preds)\n",
    "    \n",
    "    # Perform cross-validation\n",
    "    cv_scores = cross_val_score(model, X_train, y_train, cv=cv)\n",
    "    \n",
    "    return {\n",
    "        'model': model.__class__.__name__,\n",
    "        'train_accuracy': train_accuracy,\n",
    "        'test_accuracy': test_accuracy,\n",
    "        'cv_mean': np.mean(cv_scores),\n",
    "        'cv_std': np.std(cv_scores)\n",
    "    }\n",
    "\n",
    "models = [\n",
    "    XGBClassifier(\n",
    "        random_state=42, \n",
    "        n_estimators=50, \n",
    "        max_depth=2,\n",
    "        min_child_weight=2,\n",
    "        subsample=0.8,\n",
    "        colsample_bytree=0.8,\n",
    "        early_stopping_rounds=10\n",
    "    ),\n",
    "    LogisticRegression(random_state=42, max_iter=100),\n",
    "    DecisionTreeClassifier(random_state=42, max_depth=10)\n",
    "    #'Random Forest': RandomForestClassifier(random_state=42, n_estimators=100, max_depth=4),\n",
    "    #'Gradient Boosting': GradientBoostingClassifier(random_state=42, n_estimators=100, learning_rate=0.1, max_depth=3),\n",
    "    #SVC(random_state=42, max_iter=1000, tol=1e-3),\n",
    "    #KNeighborsClassifier(n_neighbors=5, n_jobs=-1),\n",
    "]\n",
    "\n",
    "results = []\n",
    "\n",
    "# Initialize tqdm progress bar\n",
    "for model in tqdm(models, desc=\"Training Models\", unit=\"model\"):\n",
    "    start_time = time.time()  # Track the start time\n",
    "    \n",
    "    if isinstance(model, XGBClassifier):\n",
    "        model.fit(X_train, y_train, eval_set=[(X_val, y_val)])\n",
    "    else:\n",
    "        # Fit other models\n",
    "        model.fit(X_train, y_train)\n",
    "    \n",
    "    # Train and evaluate the model\n",
    "    model_results = train_evaluate_model(model, X_train, y_train, X_val, y_val)\n",
    "    \n",
    "    # Calculate the time taken\n",
    "    end_time = time.time()\n",
    "    model_results['time_taken'] = end_time - start_time\n",
    "    \n",
    "    # Append results\n",
    "    results.append(model_results)\n",
    "\n",
    "# Create and sort the results DataFrame\n",
    "results_df = pd.DataFrame(results)\n",
    "results_df = results_df.sort_values('test_accuracy', ascending=False).reset_index(drop=True)\n",
    "\n",
    "print(results_df)"
   ],
   "id": "4354df035ef77295",
   "outputs": [],
   "execution_count": 20
  },
  {
   "metadata": {},
   "cell_type": "markdown",
   "source": "## Deep learning",
   "id": "7d1f61c0f3b4e663"
  },
  {
   "metadata": {},
   "cell_type": "code",
   "outputs": [],
   "execution_count": null,
   "source": [
    "model = Sequential([\n",
    "    Dense(units=512, activation='relu', name='L1'),\n",
    "    Dense(units=256, activation='relu', name='L2'),\n",
    "    Dense(units=128, activation='relu', name='L3'),\n",
    "    Dense(units=64, activation='relu', name='L4'),\n",
    "    Dense(units=32, activation='relu', name='L5'),\n",
    "    Dense(units=16, activation='relu', name='L6'),\n",
    "    Dense(units=1, activation='sigmoid', name='L7')\n",
    "])"
   ],
   "id": "8c84f4079ad77858"
  },
  {
   "metadata": {},
   "cell_type": "code",
   "outputs": [],
   "execution_count": null,
   "source": [
    "model = Sequential([\n",
    "    Dense(units=1024, activation='relu', name='L1'),  # Increased units\n",
    "    Dropout(0.5),  # Optional: Add dropout for regularization\n",
    "    Dense(units=512, activation='relu', name='L2'),   # Increased units\n",
    "    Dropout(0.5),  # Optional: Add dropout for regularization\n",
    "    Dense(units=256, activation='relu', name='L3'),   # Increased units\n",
    "    Dense(units=128, activation='relu', name='L4'),    # Increased units\n",
    "    Dense(units=64, activation='relu', name='L5'),      # Increased units\n",
    "    Dense(units=32, activation='relu', name='L6'),      # Increased units\n",
    "    Dense(units=16, activation='relu', name='L7'),      # Increased units\n",
    "    Dense(units=1, activation='sigmoid', name='L8')     # Output layer\n",
    "])"
   ],
   "id": "b894cf49339a388f"
  },
  {
   "metadata": {},
   "cell_type": "code",
   "source": [
    "model.compile(optimizer=tf.keras.optimizers.Adam(learning_rate=1e-3), loss='binary_crossentropy', metrics=['accuracy'])\n",
    "\n",
    "early_stopping = EarlyStopping(\n",
    "    monitor='val_loss',  # You can also use 'val_accuracy'\n",
    "    patience=10,  # Number of epochs to wait for improvement\n",
    "    restore_best_weights=True  # Restore the best model weights\n",
    ")\n",
    "\n",
    "model.fit(\n",
    "    X_train,\n",
    "    y_train,\n",
    "    epochs=100,\n",
    "    batch_size=128,\n",
    "    validation_data=(X_val, y_val),  # Include validation data\n",
    "    callbacks=[early_stopping]  # Include the early stopping callback\n",
    ")"
   ],
   "id": "ca792f32784d76d4",
   "outputs": [],
   "execution_count": null
  },
  {
   "metadata": {
    "ExecuteTime": {
     "end_time": "2024-08-12T22:20:31.435361Z",
     "start_time": "2024-08-12T22:20:31.423967Z"
    }
   },
   "cell_type": "code",
   "source": "model.summary()",
   "id": "d3f8ffc3625d2515",
   "outputs": [
    {
     "data": {
      "text/plain": [
       "\u001B[1mModel: \"sequential\"\u001B[0m\n"
      ],
      "text/html": [
       "<pre style=\"white-space:pre;overflow-x:auto;line-height:normal;font-family:Menlo,'DejaVu Sans Mono',consolas,'Courier New',monospace\"><span style=\"font-weight: bold\">Model: \"sequential\"</span>\n",
       "</pre>\n"
      ]
     },
     "metadata": {},
     "output_type": "display_data"
    },
    {
     "data": {
      "text/plain": [
       "┏━━━━━━━━━━━━━━━━━━━━━━━━━━━━━━━━━┳━━━━━━━━━━━━━━━━━━━━━━━━┳━━━━━━━━━━━━━━━┓\n",
       "┃\u001B[1m \u001B[0m\u001B[1mLayer (type)                   \u001B[0m\u001B[1m \u001B[0m┃\u001B[1m \u001B[0m\u001B[1mOutput Shape          \u001B[0m\u001B[1m \u001B[0m┃\u001B[1m \u001B[0m\u001B[1m      Param #\u001B[0m\u001B[1m \u001B[0m┃\n",
       "┡━━━━━━━━━━━━━━━━━━━━━━━━━━━━━━━━━╇━━━━━━━━━━━━━━━━━━━━━━━━╇━━━━━━━━━━━━━━━┩\n",
       "│ L1 (\u001B[38;5;33mDense\u001B[0m)                      │ (\u001B[38;5;45mNone\u001B[0m, \u001B[38;5;34m512\u001B[0m)            │         \u001B[38;5;34m3,072\u001B[0m │\n",
       "├─────────────────────────────────┼────────────────────────┼───────────────┤\n",
       "│ L2 (\u001B[38;5;33mDense\u001B[0m)                      │ (\u001B[38;5;45mNone\u001B[0m, \u001B[38;5;34m256\u001B[0m)            │       \u001B[38;5;34m131,328\u001B[0m │\n",
       "├─────────────────────────────────┼────────────────────────┼───────────────┤\n",
       "│ L3 (\u001B[38;5;33mDense\u001B[0m)                      │ (\u001B[38;5;45mNone\u001B[0m, \u001B[38;5;34m128\u001B[0m)            │        \u001B[38;5;34m32,896\u001B[0m │\n",
       "├─────────────────────────────────┼────────────────────────┼───────────────┤\n",
       "│ L4 (\u001B[38;5;33mDense\u001B[0m)                      │ (\u001B[38;5;45mNone\u001B[0m, \u001B[38;5;34m64\u001B[0m)             │         \u001B[38;5;34m8,256\u001B[0m │\n",
       "├─────────────────────────────────┼────────────────────────┼───────────────┤\n",
       "│ L5 (\u001B[38;5;33mDense\u001B[0m)                      │ (\u001B[38;5;45mNone\u001B[0m, \u001B[38;5;34m32\u001B[0m)             │         \u001B[38;5;34m2,080\u001B[0m │\n",
       "├─────────────────────────────────┼────────────────────────┼───────────────┤\n",
       "│ L6 (\u001B[38;5;33mDense\u001B[0m)                      │ (\u001B[38;5;45mNone\u001B[0m, \u001B[38;5;34m16\u001B[0m)             │           \u001B[38;5;34m528\u001B[0m │\n",
       "├─────────────────────────────────┼────────────────────────┼───────────────┤\n",
       "│ L7 (\u001B[38;5;33mDense\u001B[0m)                      │ (\u001B[38;5;45mNone\u001B[0m, \u001B[38;5;34m1\u001B[0m)              │            \u001B[38;5;34m17\u001B[0m │\n",
       "└─────────────────────────────────┴────────────────────────┴───────────────┘\n"
      ],
      "text/html": [
       "<pre style=\"white-space:pre;overflow-x:auto;line-height:normal;font-family:Menlo,'DejaVu Sans Mono',consolas,'Courier New',monospace\">┏━━━━━━━━━━━━━━━━━━━━━━━━━━━━━━━━━┳━━━━━━━━━━━━━━━━━━━━━━━━┳━━━━━━━━━━━━━━━┓\n",
       "┃<span style=\"font-weight: bold\"> Layer (type)                    </span>┃<span style=\"font-weight: bold\"> Output Shape           </span>┃<span style=\"font-weight: bold\">       Param # </span>┃\n",
       "┡━━━━━━━━━━━━━━━━━━━━━━━━━━━━━━━━━╇━━━━━━━━━━━━━━━━━━━━━━━━╇━━━━━━━━━━━━━━━┩\n",
       "│ L1 (<span style=\"color: #0087ff; text-decoration-color: #0087ff\">Dense</span>)                      │ (<span style=\"color: #00d7ff; text-decoration-color: #00d7ff\">None</span>, <span style=\"color: #00af00; text-decoration-color: #00af00\">512</span>)            │         <span style=\"color: #00af00; text-decoration-color: #00af00\">3,072</span> │\n",
       "├─────────────────────────────────┼────────────────────────┼───────────────┤\n",
       "│ L2 (<span style=\"color: #0087ff; text-decoration-color: #0087ff\">Dense</span>)                      │ (<span style=\"color: #00d7ff; text-decoration-color: #00d7ff\">None</span>, <span style=\"color: #00af00; text-decoration-color: #00af00\">256</span>)            │       <span style=\"color: #00af00; text-decoration-color: #00af00\">131,328</span> │\n",
       "├─────────────────────────────────┼────────────────────────┼───────────────┤\n",
       "│ L3 (<span style=\"color: #0087ff; text-decoration-color: #0087ff\">Dense</span>)                      │ (<span style=\"color: #00d7ff; text-decoration-color: #00d7ff\">None</span>, <span style=\"color: #00af00; text-decoration-color: #00af00\">128</span>)            │        <span style=\"color: #00af00; text-decoration-color: #00af00\">32,896</span> │\n",
       "├─────────────────────────────────┼────────────────────────┼───────────────┤\n",
       "│ L4 (<span style=\"color: #0087ff; text-decoration-color: #0087ff\">Dense</span>)                      │ (<span style=\"color: #00d7ff; text-decoration-color: #00d7ff\">None</span>, <span style=\"color: #00af00; text-decoration-color: #00af00\">64</span>)             │         <span style=\"color: #00af00; text-decoration-color: #00af00\">8,256</span> │\n",
       "├─────────────────────────────────┼────────────────────────┼───────────────┤\n",
       "│ L5 (<span style=\"color: #0087ff; text-decoration-color: #0087ff\">Dense</span>)                      │ (<span style=\"color: #00d7ff; text-decoration-color: #00d7ff\">None</span>, <span style=\"color: #00af00; text-decoration-color: #00af00\">32</span>)             │         <span style=\"color: #00af00; text-decoration-color: #00af00\">2,080</span> │\n",
       "├─────────────────────────────────┼────────────────────────┼───────────────┤\n",
       "│ L6 (<span style=\"color: #0087ff; text-decoration-color: #0087ff\">Dense</span>)                      │ (<span style=\"color: #00d7ff; text-decoration-color: #00d7ff\">None</span>, <span style=\"color: #00af00; text-decoration-color: #00af00\">16</span>)             │           <span style=\"color: #00af00; text-decoration-color: #00af00\">528</span> │\n",
       "├─────────────────────────────────┼────────────────────────┼───────────────┤\n",
       "│ L7 (<span style=\"color: #0087ff; text-decoration-color: #0087ff\">Dense</span>)                      │ (<span style=\"color: #00d7ff; text-decoration-color: #00d7ff\">None</span>, <span style=\"color: #00af00; text-decoration-color: #00af00\">1</span>)              │            <span style=\"color: #00af00; text-decoration-color: #00af00\">17</span> │\n",
       "└─────────────────────────────────┴────────────────────────┴───────────────┘\n",
       "</pre>\n"
      ]
     },
     "metadata": {},
     "output_type": "display_data"
    },
    {
     "data": {
      "text/plain": [
       "\u001B[1m Total params: \u001B[0m\u001B[38;5;34m534,533\u001B[0m (2.04 MB)\n"
      ],
      "text/html": [
       "<pre style=\"white-space:pre;overflow-x:auto;line-height:normal;font-family:Menlo,'DejaVu Sans Mono',consolas,'Courier New',monospace\"><span style=\"font-weight: bold\"> Total params: </span><span style=\"color: #00af00; text-decoration-color: #00af00\">534,533</span> (2.04 MB)\n",
       "</pre>\n"
      ]
     },
     "metadata": {},
     "output_type": "display_data"
    },
    {
     "data": {
      "text/plain": [
       "\u001B[1m Trainable params: \u001B[0m\u001B[38;5;34m178,177\u001B[0m (696.00 KB)\n"
      ],
      "text/html": [
       "<pre style=\"white-space:pre;overflow-x:auto;line-height:normal;font-family:Menlo,'DejaVu Sans Mono',consolas,'Courier New',monospace\"><span style=\"font-weight: bold\"> Trainable params: </span><span style=\"color: #00af00; text-decoration-color: #00af00\">178,177</span> (696.00 KB)\n",
       "</pre>\n"
      ]
     },
     "metadata": {},
     "output_type": "display_data"
    },
    {
     "data": {
      "text/plain": [
       "\u001B[1m Non-trainable params: \u001B[0m\u001B[38;5;34m0\u001B[0m (0.00 B)\n"
      ],
      "text/html": [
       "<pre style=\"white-space:pre;overflow-x:auto;line-height:normal;font-family:Menlo,'DejaVu Sans Mono',consolas,'Courier New',monospace\"><span style=\"font-weight: bold\"> Non-trainable params: </span><span style=\"color: #00af00; text-decoration-color: #00af00\">0</span> (0.00 B)\n",
       "</pre>\n"
      ]
     },
     "metadata": {},
     "output_type": "display_data"
    },
    {
     "data": {
      "text/plain": [
       "\u001B[1m Optimizer params: \u001B[0m\u001B[38;5;34m356,356\u001B[0m (1.36 MB)\n"
      ],
      "text/html": [
       "<pre style=\"white-space:pre;overflow-x:auto;line-height:normal;font-family:Menlo,'DejaVu Sans Mono',consolas,'Courier New',monospace\"><span style=\"font-weight: bold\"> Optimizer params: </span><span style=\"color: #00af00; text-decoration-color: #00af00\">356,356</span> (1.36 MB)\n",
       "</pre>\n"
      ]
     },
     "metadata": {},
     "output_type": "display_data"
    }
   ],
   "execution_count": 16
  },
  {
   "metadata": {
    "ExecuteTime": {
     "end_time": "2024-08-12T22:21:40.506661Z",
     "start_time": "2024-08-12T22:20:31.436098Z"
    }
   },
   "cell_type": "code",
   "source": [
    "y_pred_train = model.predict(X_train)\n",
    "y_pred_val = model.predict(X_val)\n",
    "\n",
    "y_pred_train = (y_pred_train >= 0.5).astype(int)\n",
    "y_pred_val = (y_pred_val >= 0.5).astype(int)\n",
    "\n",
    "mcc_train = matthews_corrcoef(y_train, y_pred_train)\n",
    "mcc_val = matthews_corrcoef(y_val, y_pred_val)\n",
    "print(f\"Train Matthhews {mcc_train} \")\n",
    "print(f\"Val Matthhews {mcc_val} \")"
   ],
   "id": "ed9d33674fd4c8dc",
   "outputs": [
    {
     "name": "stdout",
     "output_type": "stream",
     "text": [
      "\u001B[1m77924/77924\u001B[0m \u001B[32m━━━━━━━━━━━━━━━━━━━━\u001B[0m\u001B[37m\u001B[0m \u001B[1m42s\u001B[0m 535us/step\n",
      "\u001B[1m19481/19481\u001B[0m \u001B[32m━━━━━━━━━━━━━━━━━━━━\u001B[0m\u001B[37m\u001B[0m \u001B[1m10s\u001B[0m 502us/step\n",
      "Train Matthhews 0.9370928730648166 \n",
      "Val Matthhews 0.9348270255740985 \n"
     ]
    }
   ],
   "execution_count": 17
  },
  {
   "metadata": {
    "ExecuteTime": {
     "end_time": "2024-08-12T22:22:25.214896Z",
     "start_time": "2024-08-12T22:21:40.508104Z"
    }
   },
   "cell_type": "code",
   "source": [
    "selected_model = model\n",
    "predictions = selected_model.predict(test)\n",
    "print(predictions)\n",
    "\n",
    "binary_predictions = (predictions >= 0.5).astype(int)\n",
    "print(binary_predictions)\n",
    "predictions = np.where(binary_predictions == 0, 'e', 'p')\n",
    "print(predictions)\n",
    "predictions = predictions.flatten()"
   ],
   "id": "f44880b767daa8c3",
   "outputs": [
    {
     "name": "stdout",
     "output_type": "stream",
     "text": [
      "\u001B[1m64937/64937\u001B[0m \u001B[32m━━━━━━━━━━━━━━━━━━━━\u001B[0m\u001B[37m\u001B[0m \u001B[1m33s\u001B[0m 512us/step\n",
      "[[6.2245363e-03]\n",
      " [9.9635690e-01]\n",
      " [9.5335340e-01]\n",
      " ...\n",
      " [8.9703065e-01]\n",
      " [4.9264405e-02]\n",
      " [9.1004840e-06]]\n",
      "[[0]\n",
      " [1]\n",
      " [1]\n",
      " ...\n",
      " [1]\n",
      " [0]\n",
      " [0]]\n",
      "[['e']\n",
      " ['p']\n",
      " ['p']\n",
      " ...\n",
      " ['p']\n",
      " ['e']\n",
      " ['e']]\n"
     ]
    }
   ],
   "execution_count": 18
  },
  {
   "metadata": {},
   "cell_type": "markdown",
   "source": "# Make final predictions ",
   "id": "81cae827e577f907"
  },
  {
   "metadata": {
    "ExecuteTime": {
     "end_time": "2024-08-11T20:23:18.589922Z",
     "start_time": "2024-08-11T20:23:18.589843Z"
    }
   },
   "cell_type": "code",
   "source": [
    "selected_model = models[1] # LR\n",
    "predictions = selected_model.predict(test)"
   ],
   "id": "8f31dabf10df1064",
   "outputs": [],
   "execution_count": null
  },
  {
   "metadata": {},
   "cell_type": "code",
   "source": [
    "print(predictions)\n",
    "predictions = np.where(predictions == 0, 'e', 'p')\n",
    "print(predictions)"
   ],
   "id": "ffdae685b8f08a5c",
   "outputs": [],
   "execution_count": null
  },
  {
   "metadata": {},
   "cell_type": "markdown",
   "source": "# Prepare upload",
   "id": "19ba72db975e67e0"
  },
  {
   "metadata": {
    "ExecuteTime": {
     "end_time": "2024-08-12T22:22:28.588760Z",
     "start_time": "2024-08-12T22:22:25.215913Z"
    }
   },
   "cell_type": "code",
   "source": [
    "choosen_model_name = 'nn_512_256_128_64_32_16_1'\n",
    "\n",
    "submission = pd.DataFrame({\n",
    "    'id': pd.read_csv('data/test.csv')['id'],  # Ensure PassengerId is correctly handled\n",
    "    'class': predictions\n",
    "})\n",
    "\n",
    "# Get the current date and time\n",
    "now = datetime.now()\n",
    "# Format the date and time as a string\n",
    "date_time_str = now.strftime(\"%Y%m%d_%H%M%S\")\n",
    "\n",
    "# Save the DataFrame to a CSV file with the date and time in the filename\n",
    "submission.to_csv(f'output/submission_{choosen_model_name}_{date_time_str}.csv', index=False)"
   ],
   "id": "40a3a32109fe2827",
   "outputs": [],
   "execution_count": 19
  },
  {
   "metadata": {},
   "cell_type": "markdown",
   "source": [
    "Pending:\n",
    "1. understand features correctly \n",
    "2. See how we can create new ones with feature engineering.\n",
    "3. Create a huge NN and leave it training for a whole night in Kaggle."
   ],
   "id": "82ebc01b6800c387"
  },
  {
   "metadata": {},
   "cell_type": "code",
   "outputs": [],
   "execution_count": null,
   "source": "",
   "id": "4cc93e83f9357987"
  }
 ],
 "metadata": {
  "kernelspec": {
   "display_name": "Python 3",
   "language": "python",
   "name": "python3"
  },
  "language_info": {
   "codemirror_mode": {
    "name": "ipython",
    "version": 2
   },
   "file_extension": ".py",
   "mimetype": "text/x-python",
   "name": "python",
   "nbconvert_exporter": "python",
   "pygments_lexer": "ipython2",
   "version": "2.7.6"
  }
 },
 "nbformat": 4,
 "nbformat_minor": 5
}
